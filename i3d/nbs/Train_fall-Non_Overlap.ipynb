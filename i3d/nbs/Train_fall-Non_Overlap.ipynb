{
 "cells": [
  {
   "cell_type": "markdown",
   "metadata": {},
   "source": [
    "### 1. Load Libraries "
   ]
  },
  {
   "cell_type": "code",
   "execution_count": 1,
   "metadata": {},
   "outputs": [],
   "source": [
    "import os\n",
    "os.environ[\"CUDA_VISIBLE_DEVICES\"]=\"1\""
   ]
  },
  {
   "cell_type": "code",
   "execution_count": 2,
   "metadata": {},
   "outputs": [],
   "source": [
    "PATH = '/mnt/project/grp_202/khan74/i3d_keras/tmp'\n",
    "\n",
    "import sys\n",
    "sys.path.append(PATH+'/../')\n",
    "sys.path.append(PATH+'/../src/')"
   ]
  },
  {
   "cell_type": "code",
   "execution_count": 3,
   "metadata": {},
   "outputs": [],
   "source": [
    "PATH = '/mnt/project/grp_202/khan74/i3d_keras/'"
   ]
  },
  {
   "cell_type": "code",
   "execution_count": 4,
   "metadata": {},
   "outputs": [
    {
     "name": "stderr",
     "output_type": "stream",
     "text": [
      "Using TensorFlow backend.\n"
     ]
    }
   ],
   "source": [
    "from __future__ import print_function\n",
    "from __future__ import absolute_import\n",
    "\n",
    "import warnings\n",
    "\n",
    "import numpy as np\n",
    "\n",
    "from keras.models import Model\n",
    "from keras import layers\n",
    "from keras.layers import Activation\n",
    "from keras.layers import Dense\n",
    "from keras.layers import Input\n",
    "from keras.layers import BatchNormalization\n",
    "from keras.layers import Conv3D\n",
    "from keras.layers import MaxPooling3D\n",
    "from keras.layers import AveragePooling3D\n",
    "from keras.layers import Dropout\n",
    "from keras.layers import Reshape\n",
    "from keras.layers import Lambda\n",
    "from keras.layers import GlobalAveragePooling3D\n",
    "\n",
    "from keras.engine.topology import get_source_inputs\n",
    "from keras.utils import layer_utils\n",
    "from keras.utils.data_utils import get_file\n",
    "from keras import backend as K\n",
    "\n",
    "from keras import optimizers\n",
    "import keras"
   ]
  },
  {
   "cell_type": "code",
   "execution_count": 5,
   "metadata": {},
   "outputs": [],
   "source": [
    "import matplotlib.pyplot as plt\n",
    "import seaborn as sn\n",
    "from ipywidgets import *\n",
    "import cv2"
   ]
  },
  {
   "cell_type": "code",
   "execution_count": 6,
   "metadata": {},
   "outputs": [],
   "source": [
    "from i3d_inception import Inception_Inflated3d"
   ]
  },
  {
   "cell_type": "code",
   "execution_count": 7,
   "metadata": {},
   "outputs": [],
   "source": [
    "# Animate\n",
    "\n",
    "#@title Import the necessary modules\n",
    "# TensorFlow and TF-Hub modules.\n",
    "from absl import logging\n",
    "\n",
    "#import tensorflow as tf\n",
    "#import tensorflow_hub as hub\n",
    "\n",
    "logging.set_verbosity(logging.ERROR)\n",
    "\n",
    "# Some modules to help with reading the UCF101 dataset.\n",
    "import random\n",
    "import re\n",
    "import os\n",
    "import tempfile\n",
    "import cv2\n",
    "import numpy as np\n",
    "\n",
    "# Some modules to display an animation using imageio.\n",
    "import imageio\n",
    "from IPython import display\n",
    "\n",
    "from urllib import request  # requires python3"
   ]
  },
  {
   "cell_type": "code",
   "execution_count": 8,
   "metadata": {},
   "outputs": [],
   "source": [
    "# Utilities to open video files using CV2\n",
    "def crop_center_square(frame):\n",
    "    y, x = frame.shape[0:2]\n",
    "    min_dim = min(y, x)\n",
    "    start_x = (x // 2) - (min_dim // 2)\n",
    "    start_y = (y // 2) - (min_dim // 2)\n",
    "    return frame[start_y:start_y+min_dim,start_x:start_x+min_dim]\n",
    "\n",
    "\n",
    "def load_video(path, max_frames=0, resize=(224, 224)):\n",
    "    cap = cv2.VideoCapture(path)\n",
    "    frames = []\n",
    "    try:\n",
    "        while True:\n",
    "            ret, frame = cap.read()\n",
    "            if not ret:\n",
    "                break\n",
    "            frame = crop_center_square(frame)\n",
    "            frame = cv2.resize(frame, resize)\n",
    "            frame = frame[:, :, [2, 1, 0]]\n",
    "            frames.append(frame)\n",
    "\n",
    "            if len(frames) == max_frames:\n",
    "                break\n",
    "    finally:\n",
    "        cap.release()\n",
    "    return np.array(frames) / 255.0\n",
    "\n",
    "def animate(images):\n",
    "    converted_images = np.clip(images * 255, 0, 255).astype(np.uint8)\n",
    "    imageio.mimsave('./animation.gif', converted_images, fps=25)\n",
    "    with open('./animation.gif','rb') as f:\n",
    "        display.display(display.Image(data=f.read(), height=300))"
   ]
  },
  {
   "cell_type": "code",
   "execution_count": 9,
   "metadata": {},
   "outputs": [],
   "source": [
    "def show_rgb(video_path_npy):\n",
    "    rgb = np.load(video_path_npy)\n",
    "    rgb = (rgb + 1) / 2\n",
    "    #rgb = np.squeeze(rgb, axis=0)  # remove the batch dimension\n",
    "    nb_frames = rgb.shape[0]\n",
    "\n",
    "    for i in range(0, nb_frames):\n",
    "        rgb_1st_img = rgb[i, :, :, :]\n",
    "        cv2.imshow('img_flow', rgb_1st_img)\n",
    "        cv2.waitKey(0)"
   ]
  },
  {
   "cell_type": "code",
   "execution_count": 10,
   "metadata": {},
   "outputs": [],
   "source": [
    "def conv3d_bn(x,\n",
    "              filters,\n",
    "              num_frames,\n",
    "              num_row,\n",
    "              num_col,\n",
    "              padding='same',\n",
    "              strides=(1, 1, 1),\n",
    "              use_bias = False,\n",
    "              use_activation_fn = True,\n",
    "              use_bn = True,\n",
    "              name=None):\n",
    "    \"\"\"Utility function to apply conv3d + BN.\n",
    "\n",
    "    # Arguments\n",
    "        x: input tensor.\n",
    "        filters: filters in `Conv3D`.\n",
    "        num_frames: frames (time depth) of the convolution kernel.\n",
    "        num_row: height of the convolution kernel.\n",
    "        num_col: width of the convolution kernel.\n",
    "        padding: padding mode in `Conv3D`.\n",
    "        strides: strides in `Conv3D`.\n",
    "        use_bias: use bias or not  \n",
    "        use_activation_fn: use an activation function or not.\n",
    "        use_bn: use batch normalization or not.\n",
    "        name: name of the ops; will become `name + '_conv'`\n",
    "            for the convolution and `name + '_bn'` for the\n",
    "            batch norm layer.\n",
    "\n",
    "    # Returns\n",
    "        Output tensor after applying `Conv3D` and `BatchNormalization`.\n",
    "    \"\"\"\n",
    "    if name is not None:\n",
    "        bn_name = name + '_bn'\n",
    "        conv_name = name + '_conv'\n",
    "    else:\n",
    "        bn_name = None\n",
    "        conv_name = None\n",
    "\n",
    "    x = Conv3D(\n",
    "        filters, (num_frames, num_row, num_col),\n",
    "        strides=strides,\n",
    "        padding=padding,\n",
    "        use_bias=use_bias,\n",
    "        name=conv_name)(x)\n",
    "\n",
    "    if use_bn:\n",
    "        if K.image_data_format() == 'channels_first':\n",
    "            bn_axis = 1\n",
    "        else:\n",
    "            bn_axis = 4\n",
    "        x = BatchNormalization(axis=bn_axis, scale=False, name=bn_name)(x)\n",
    "\n",
    "    if use_activation_fn:\n",
    "        x = Activation('relu', name=name)(x)\n",
    "\n",
    "    return x"
   ]
  },
  {
   "cell_type": "markdown",
   "metadata": {},
   "source": [
    "### 2. Load Model "
   ]
  },
  {
   "cell_type": "code",
   "execution_count": 11,
   "metadata": {},
   "outputs": [],
   "source": [
    "FRAME_HEIGHT = 224\n",
    "FRAME_WIDTH = 224\n",
    "NUM_RGB_CHANNELS = 3\n",
    "NUM_FLOW_CHANNELS = 2\n",
    "\n",
    "NUM_CLASSES = 2\n",
    "\n",
    "#LABEL_MAP_PATH = PATH+'data/label_map.txt'"
   ]
  },
  {
   "cell_type": "code",
   "execution_count": 12,
   "metadata": {},
   "outputs": [
    {
     "data": {
      "text/plain": [
       "20"
      ]
     },
     "execution_count": 12,
     "metadata": {},
     "output_type": "execute_result"
    }
   ],
   "source": [
    "rgb_sample = np.load(PATH + '/data/fall_no_fall/HS_data/processed_dataset_win20_thre18/fall/10229.npy')\n",
    "rgb_sample = np.expand_dims(rgb_sample, axis=0)\n",
    "INPUT_SHAPE = rgb_sample.shape[1]; INPUT_SHAPE"
   ]
  },
  {
   "cell_type": "code",
   "execution_count": 13,
   "metadata": {},
   "outputs": [
    {
     "name": "stdout",
     "output_type": "stream",
     "text": [
      "WARNING:tensorflow:From /home/khan74/.conda/envs/hackathon_2/lib/python3.7/site-packages/tensorflow/python/framework/op_def_library.py:263: colocate_with (from tensorflow.python.framework.ops) is deprecated and will be removed in a future version.\n",
      "Instructions for updating:\n",
      "Colocations handled automatically by placer.\n"
     ]
    }
   ],
   "source": [
    "rgb_model = Inception_Inflated3d(\n",
    "                include_top=False,\n",
    "                weights='rgb_imagenet_and_kinetics',\n",
    "                input_shape=(INPUT_SHAPE, FRAME_HEIGHT, FRAME_WIDTH, NUM_RGB_CHANNELS),\n",
    "                classes=NUM_CLASSES)"
   ]
  },
  {
   "cell_type": "code",
   "execution_count": 14,
   "metadata": {},
   "outputs": [
    {
     "name": "stdout",
     "output_type": "stream",
     "text": [
      "WARNING:tensorflow:From /home/khan74/.conda/envs/hackathon_2/lib/python3.7/site-packages/keras/backend/tensorflow_backend.py:3445: calling dropout (from tensorflow.python.ops.nn_ops) with keep_prob is deprecated and will be removed in a future version.\n",
      "Instructions for updating:\n",
      "Please use `rate` instead of `keep_prob`. Rate should be set to `rate = 1 - keep_prob`.\n"
     ]
    }
   ],
   "source": [
    "x = rgb_model.output\n",
    "#x = AveragePooling3D((2, 7, 7), strides=(1, 1, 1), padding='valid', name='global_avg_pool')(x)\n",
    "x = Dropout(0.5)(x)\n",
    "\n",
    "x = conv3d_bn(x, NUM_CLASSES, 1, 1, 1, padding='same', \n",
    "        use_bias=True, use_activation_fn=False, use_bn=False, name='Conv3d_6a_1x1')\n",
    "\n",
    "num_frames_remaining = int(x.shape[1])\n",
    "x = Reshape((num_frames_remaining, NUM_CLASSES))(x)\n",
    "\n",
    "# logits (raw scores for each class)\n",
    "x = Lambda(lambda x: K.mean(x, axis=1, keepdims=False),\n",
    "           output_shape=lambda s: (s[0], s[2]))(x)\n",
    "\n",
    "x = Activation('softmax', name='prediction')(x)\n",
    "\n",
    "model = Model(rgb_model.input, x, name='i3d_inception')"
   ]
  },
  {
   "cell_type": "code",
   "execution_count": 15,
   "metadata": {},
   "outputs": [],
   "source": [
    "model.compile(loss = \"categorical_crossentropy\", optimizer = optimizers.Adam(lr=0.0001), metrics=[\"accuracy\"])"
   ]
  },
  {
   "cell_type": "code",
   "execution_count": 16,
   "metadata": {
    "scrolled": true
   },
   "outputs": [
    {
     "name": "stdout",
     "output_type": "stream",
     "text": [
      "__________________________________________________________________________________________________\n",
      "Layer (type)                    Output Shape         Param #     Connected to                     \n",
      "==================================================================================================\n",
      "input_1 (InputLayer)            (None, 20, 224, 224, 0                                            \n",
      "__________________________________________________________________________________________________\n",
      "Conv3d_1a_7x7_conv (Conv3D)     (None, 10, 112, 112, 65856       input_1[0][0]                    \n",
      "__________________________________________________________________________________________________\n",
      "Conv3d_1a_7x7_bn (BatchNormaliz (None, 10, 112, 112, 192         Conv3d_1a_7x7_conv[0][0]         \n",
      "__________________________________________________________________________________________________\n",
      "Conv3d_1a_7x7 (Activation)      (None, 10, 112, 112, 0           Conv3d_1a_7x7_bn[0][0]           \n",
      "__________________________________________________________________________________________________\n",
      "MaxPool2d_2a_3x3 (MaxPooling3D) (None, 10, 56, 56, 6 0           Conv3d_1a_7x7[0][0]              \n",
      "__________________________________________________________________________________________________\n",
      "Conv3d_2b_1x1_conv (Conv3D)     (None, 10, 56, 56, 6 4096        MaxPool2d_2a_3x3[0][0]           \n",
      "__________________________________________________________________________________________________\n",
      "Conv3d_2b_1x1_bn (BatchNormaliz (None, 10, 56, 56, 6 192         Conv3d_2b_1x1_conv[0][0]         \n",
      "__________________________________________________________________________________________________\n",
      "Conv3d_2b_1x1 (Activation)      (None, 10, 56, 56, 6 0           Conv3d_2b_1x1_bn[0][0]           \n",
      "__________________________________________________________________________________________________\n",
      "Conv3d_2c_3x3_conv (Conv3D)     (None, 10, 56, 56, 1 331776      Conv3d_2b_1x1[0][0]              \n",
      "__________________________________________________________________________________________________\n",
      "Conv3d_2c_3x3_bn (BatchNormaliz (None, 10, 56, 56, 1 576         Conv3d_2c_3x3_conv[0][0]         \n",
      "__________________________________________________________________________________________________\n",
      "Conv3d_2c_3x3 (Activation)      (None, 10, 56, 56, 1 0           Conv3d_2c_3x3_bn[0][0]           \n",
      "__________________________________________________________________________________________________\n",
      "MaxPool2d_3a_3x3 (MaxPooling3D) (None, 10, 28, 28, 1 0           Conv3d_2c_3x3[0][0]              \n",
      "__________________________________________________________________________________________________\n",
      "Conv3d_3b_1a_1x1_conv (Conv3D)  (None, 10, 28, 28, 9 18432       MaxPool2d_3a_3x3[0][0]           \n",
      "__________________________________________________________________________________________________\n",
      "Conv3d_3b_2a_1x1_conv (Conv3D)  (None, 10, 28, 28, 1 3072        MaxPool2d_3a_3x3[0][0]           \n",
      "__________________________________________________________________________________________________\n",
      "Conv3d_3b_1a_1x1_bn (BatchNorma (None, 10, 28, 28, 9 288         Conv3d_3b_1a_1x1_conv[0][0]      \n",
      "__________________________________________________________________________________________________\n",
      "Conv3d_3b_2a_1x1_bn (BatchNorma (None, 10, 28, 28, 1 48          Conv3d_3b_2a_1x1_conv[0][0]      \n",
      "__________________________________________________________________________________________________\n",
      "Conv3d_3b_1a_1x1 (Activation)   (None, 10, 28, 28, 9 0           Conv3d_3b_1a_1x1_bn[0][0]        \n",
      "__________________________________________________________________________________________________\n",
      "Conv3d_3b_2a_1x1 (Activation)   (None, 10, 28, 28, 1 0           Conv3d_3b_2a_1x1_bn[0][0]        \n",
      "__________________________________________________________________________________________________\n",
      "MaxPool2d_3b_3a_3x3 (MaxPooling (None, 10, 28, 28, 1 0           MaxPool2d_3a_3x3[0][0]           \n",
      "__________________________________________________________________________________________________\n",
      "Conv3d_3b_0a_1x1_conv (Conv3D)  (None, 10, 28, 28, 6 12288       MaxPool2d_3a_3x3[0][0]           \n",
      "__________________________________________________________________________________________________\n",
      "Conv3d_3b_1b_3x3_conv (Conv3D)  (None, 10, 28, 28, 1 331776      Conv3d_3b_1a_1x1[0][0]           \n",
      "__________________________________________________________________________________________________\n",
      "Conv3d_3b_2b_3x3_conv (Conv3D)  (None, 10, 28, 28, 3 13824       Conv3d_3b_2a_1x1[0][0]           \n",
      "__________________________________________________________________________________________________\n",
      "Conv3d_3b_3b_1x1_conv (Conv3D)  (None, 10, 28, 28, 3 6144        MaxPool2d_3b_3a_3x3[0][0]        \n",
      "__________________________________________________________________________________________________\n",
      "Conv3d_3b_0a_1x1_bn (BatchNorma (None, 10, 28, 28, 6 192         Conv3d_3b_0a_1x1_conv[0][0]      \n",
      "__________________________________________________________________________________________________\n",
      "Conv3d_3b_1b_3x3_bn (BatchNorma (None, 10, 28, 28, 1 384         Conv3d_3b_1b_3x3_conv[0][0]      \n",
      "__________________________________________________________________________________________________\n",
      "Conv3d_3b_2b_3x3_bn (BatchNorma (None, 10, 28, 28, 3 96          Conv3d_3b_2b_3x3_conv[0][0]      \n",
      "__________________________________________________________________________________________________\n",
      "Conv3d_3b_3b_1x1_bn (BatchNorma (None, 10, 28, 28, 3 96          Conv3d_3b_3b_1x1_conv[0][0]      \n",
      "__________________________________________________________________________________________________\n",
      "Conv3d_3b_0a_1x1 (Activation)   (None, 10, 28, 28, 6 0           Conv3d_3b_0a_1x1_bn[0][0]        \n",
      "__________________________________________________________________________________________________\n",
      "Conv3d_3b_1b_3x3 (Activation)   (None, 10, 28, 28, 1 0           Conv3d_3b_1b_3x3_bn[0][0]        \n",
      "__________________________________________________________________________________________________\n",
      "Conv3d_3b_2b_3x3 (Activation)   (None, 10, 28, 28, 3 0           Conv3d_3b_2b_3x3_bn[0][0]        \n",
      "__________________________________________________________________________________________________\n",
      "Conv3d_3b_3b_1x1 (Activation)   (None, 10, 28, 28, 3 0           Conv3d_3b_3b_1x1_bn[0][0]        \n",
      "__________________________________________________________________________________________________\n",
      "Mixed_3b (Concatenate)          (None, 10, 28, 28, 2 0           Conv3d_3b_0a_1x1[0][0]           \n",
      "                                                                 Conv3d_3b_1b_3x3[0][0]           \n",
      "                                                                 Conv3d_3b_2b_3x3[0][0]           \n",
      "                                                                 Conv3d_3b_3b_1x1[0][0]           \n",
      "__________________________________________________________________________________________________\n",
      "Conv3d_3c_1a_1x1_conv (Conv3D)  (None, 10, 28, 28, 1 32768       Mixed_3b[0][0]                   \n",
      "__________________________________________________________________________________________________\n",
      "Conv3d_3c_2a_1x1_conv (Conv3D)  (None, 10, 28, 28, 3 8192        Mixed_3b[0][0]                   \n",
      "__________________________________________________________________________________________________\n",
      "Conv3d_3c_1a_1x1_bn (BatchNorma (None, 10, 28, 28, 1 384         Conv3d_3c_1a_1x1_conv[0][0]      \n",
      "__________________________________________________________________________________________________\n",
      "Conv3d_3c_2a_1x1_bn (BatchNorma (None, 10, 28, 28, 3 96          Conv3d_3c_2a_1x1_conv[0][0]      \n",
      "__________________________________________________________________________________________________\n",
      "Conv3d_3c_1a_1x1 (Activation)   (None, 10, 28, 28, 1 0           Conv3d_3c_1a_1x1_bn[0][0]        \n",
      "__________________________________________________________________________________________________\n",
      "Conv3d_3c_2a_1x1 (Activation)   (None, 10, 28, 28, 3 0           Conv3d_3c_2a_1x1_bn[0][0]        \n",
      "__________________________________________________________________________________________________\n",
      "MaxPool2d_3c_3a_3x3 (MaxPooling (None, 10, 28, 28, 2 0           Mixed_3b[0][0]                   \n",
      "__________________________________________________________________________________________________\n",
      "Conv3d_3c_0a_1x1_conv (Conv3D)  (None, 10, 28, 28, 1 32768       Mixed_3b[0][0]                   \n",
      "__________________________________________________________________________________________________\n",
      "Conv3d_3c_1b_3x3_conv (Conv3D)  (None, 10, 28, 28, 1 663552      Conv3d_3c_1a_1x1[0][0]           \n",
      "__________________________________________________________________________________________________\n",
      "Conv3d_3c_2b_3x3_conv (Conv3D)  (None, 10, 28, 28, 9 82944       Conv3d_3c_2a_1x1[0][0]           \n",
      "__________________________________________________________________________________________________\n",
      "Conv3d_3c_3b_1x1_conv (Conv3D)  (None, 10, 28, 28, 6 16384       MaxPool2d_3c_3a_3x3[0][0]        \n",
      "__________________________________________________________________________________________________\n",
      "Conv3d_3c_0a_1x1_bn (BatchNorma (None, 10, 28, 28, 1 384         Conv3d_3c_0a_1x1_conv[0][0]      \n",
      "__________________________________________________________________________________________________\n",
      "Conv3d_3c_1b_3x3_bn (BatchNorma (None, 10, 28, 28, 1 576         Conv3d_3c_1b_3x3_conv[0][0]      \n",
      "__________________________________________________________________________________________________\n",
      "Conv3d_3c_2b_3x3_bn (BatchNorma (None, 10, 28, 28, 9 288         Conv3d_3c_2b_3x3_conv[0][0]      \n",
      "__________________________________________________________________________________________________\n",
      "Conv3d_3c_3b_1x1_bn (BatchNorma (None, 10, 28, 28, 6 192         Conv3d_3c_3b_1x1_conv[0][0]      \n",
      "__________________________________________________________________________________________________\n",
      "Conv3d_3c_0a_1x1 (Activation)   (None, 10, 28, 28, 1 0           Conv3d_3c_0a_1x1_bn[0][0]        \n",
      "__________________________________________________________________________________________________\n",
      "Conv3d_3c_1b_3x3 (Activation)   (None, 10, 28, 28, 1 0           Conv3d_3c_1b_3x3_bn[0][0]        \n",
      "__________________________________________________________________________________________________\n",
      "Conv3d_3c_2b_3x3 (Activation)   (None, 10, 28, 28, 9 0           Conv3d_3c_2b_3x3_bn[0][0]        \n",
      "__________________________________________________________________________________________________\n",
      "Conv3d_3c_3b_1x1 (Activation)   (None, 10, 28, 28, 6 0           Conv3d_3c_3b_1x1_bn[0][0]        \n",
      "__________________________________________________________________________________________________\n",
      "Mixed_3c (Concatenate)          (None, 10, 28, 28, 4 0           Conv3d_3c_0a_1x1[0][0]           \n",
      "                                                                 Conv3d_3c_1b_3x3[0][0]           \n",
      "                                                                 Conv3d_3c_2b_3x3[0][0]           \n",
      "                                                                 Conv3d_3c_3b_1x1[0][0]           \n",
      "__________________________________________________________________________________________________\n",
      "MaxPool2d_4a_3x3 (MaxPooling3D) (None, 5, 14, 14, 48 0           Mixed_3c[0][0]                   \n",
      "__________________________________________________________________________________________________\n",
      "Conv3d_4b_1a_1x1_conv (Conv3D)  (None, 5, 14, 14, 96 46080       MaxPool2d_4a_3x3[0][0]           \n",
      "__________________________________________________________________________________________________\n",
      "Conv3d_4b_2a_1x1_conv (Conv3D)  (None, 5, 14, 14, 16 7680        MaxPool2d_4a_3x3[0][0]           \n",
      "__________________________________________________________________________________________________\n",
      "Conv3d_4b_1a_1x1_bn (BatchNorma (None, 5, 14, 14, 96 288         Conv3d_4b_1a_1x1_conv[0][0]      \n",
      "__________________________________________________________________________________________________\n",
      "Conv3d_4b_2a_1x1_bn (BatchNorma (None, 5, 14, 14, 16 48          Conv3d_4b_2a_1x1_conv[0][0]      \n",
      "__________________________________________________________________________________________________\n",
      "Conv3d_4b_1a_1x1 (Activation)   (None, 5, 14, 14, 96 0           Conv3d_4b_1a_1x1_bn[0][0]        \n",
      "__________________________________________________________________________________________________\n",
      "Conv3d_4b_2a_1x1 (Activation)   (None, 5, 14, 14, 16 0           Conv3d_4b_2a_1x1_bn[0][0]        \n",
      "__________________________________________________________________________________________________\n",
      "MaxPool2d_4b_3a_3x3 (MaxPooling (None, 5, 14, 14, 48 0           MaxPool2d_4a_3x3[0][0]           \n",
      "__________________________________________________________________________________________________\n",
      "Conv3d_4b_0a_1x1_conv (Conv3D)  (None, 5, 14, 14, 19 92160       MaxPool2d_4a_3x3[0][0]           \n",
      "__________________________________________________________________________________________________\n",
      "Conv3d_4b_1b_3x3_conv (Conv3D)  (None, 5, 14, 14, 20 539136      Conv3d_4b_1a_1x1[0][0]           \n",
      "__________________________________________________________________________________________________\n",
      "Conv3d_4b_2b_3x3_conv (Conv3D)  (None, 5, 14, 14, 48 20736       Conv3d_4b_2a_1x1[0][0]           \n",
      "__________________________________________________________________________________________________\n",
      "Conv3d_4b_3b_1x1_conv (Conv3D)  (None, 5, 14, 14, 64 30720       MaxPool2d_4b_3a_3x3[0][0]        \n",
      "__________________________________________________________________________________________________\n",
      "Conv3d_4b_0a_1x1_bn (BatchNorma (None, 5, 14, 14, 19 576         Conv3d_4b_0a_1x1_conv[0][0]      \n",
      "__________________________________________________________________________________________________\n",
      "Conv3d_4b_1b_3x3_bn (BatchNorma (None, 5, 14, 14, 20 624         Conv3d_4b_1b_3x3_conv[0][0]      \n",
      "__________________________________________________________________________________________________\n",
      "Conv3d_4b_2b_3x3_bn (BatchNorma (None, 5, 14, 14, 48 144         Conv3d_4b_2b_3x3_conv[0][0]      \n",
      "__________________________________________________________________________________________________\n",
      "Conv3d_4b_3b_1x1_bn (BatchNorma (None, 5, 14, 14, 64 192         Conv3d_4b_3b_1x1_conv[0][0]      \n",
      "__________________________________________________________________________________________________\n",
      "Conv3d_4b_0a_1x1 (Activation)   (None, 5, 14, 14, 19 0           Conv3d_4b_0a_1x1_bn[0][0]        \n",
      "__________________________________________________________________________________________________\n",
      "Conv3d_4b_1b_3x3 (Activation)   (None, 5, 14, 14, 20 0           Conv3d_4b_1b_3x3_bn[0][0]        \n",
      "__________________________________________________________________________________________________\n",
      "Conv3d_4b_2b_3x3 (Activation)   (None, 5, 14, 14, 48 0           Conv3d_4b_2b_3x3_bn[0][0]        \n",
      "__________________________________________________________________________________________________\n",
      "Conv3d_4b_3b_1x1 (Activation)   (None, 5, 14, 14, 64 0           Conv3d_4b_3b_1x1_bn[0][0]        \n",
      "__________________________________________________________________________________________________\n",
      "Mixed_4b (Concatenate)          (None, 5, 14, 14, 51 0           Conv3d_4b_0a_1x1[0][0]           \n",
      "                                                                 Conv3d_4b_1b_3x3[0][0]           \n",
      "                                                                 Conv3d_4b_2b_3x3[0][0]           \n",
      "                                                                 Conv3d_4b_3b_1x1[0][0]           \n",
      "__________________________________________________________________________________________________\n",
      "Conv3d_4c_1a_1x1_conv (Conv3D)  (None, 5, 14, 14, 11 57344       Mixed_4b[0][0]                   \n",
      "__________________________________________________________________________________________________\n",
      "Conv3d_4c_2a_1x1_conv (Conv3D)  (None, 5, 14, 14, 24 12288       Mixed_4b[0][0]                   \n",
      "__________________________________________________________________________________________________\n",
      "Conv3d_4c_1a_1x1_bn (BatchNorma (None, 5, 14, 14, 11 336         Conv3d_4c_1a_1x1_conv[0][0]      \n",
      "__________________________________________________________________________________________________\n",
      "Conv3d_4c_2a_1x1_bn (BatchNorma (None, 5, 14, 14, 24 72          Conv3d_4c_2a_1x1_conv[0][0]      \n",
      "__________________________________________________________________________________________________\n",
      "Conv3d_4c_1a_1x1 (Activation)   (None, 5, 14, 14, 11 0           Conv3d_4c_1a_1x1_bn[0][0]        \n",
      "__________________________________________________________________________________________________\n",
      "Conv3d_4c_2a_1x1 (Activation)   (None, 5, 14, 14, 24 0           Conv3d_4c_2a_1x1_bn[0][0]        \n",
      "__________________________________________________________________________________________________\n",
      "MaxPool2d_4c_3a_3x3 (MaxPooling (None, 5, 14, 14, 51 0           Mixed_4b[0][0]                   \n",
      "__________________________________________________________________________________________________\n",
      "Conv3d_4c_0a_1x1_conv (Conv3D)  (None, 5, 14, 14, 16 81920       Mixed_4b[0][0]                   \n",
      "__________________________________________________________________________________________________\n",
      "Conv3d_4c_1b_3x3_conv (Conv3D)  (None, 5, 14, 14, 22 677376      Conv3d_4c_1a_1x1[0][0]           \n",
      "__________________________________________________________________________________________________\n",
      "Conv3d_4c_2b_3x3_conv (Conv3D)  (None, 5, 14, 14, 64 41472       Conv3d_4c_2a_1x1[0][0]           \n",
      "__________________________________________________________________________________________________\n",
      "Conv3d_4c_3b_1x1_conv (Conv3D)  (None, 5, 14, 14, 64 32768       MaxPool2d_4c_3a_3x3[0][0]        \n",
      "__________________________________________________________________________________________________\n",
      "Conv3d_4c_0a_1x1_bn (BatchNorma (None, 5, 14, 14, 16 480         Conv3d_4c_0a_1x1_conv[0][0]      \n",
      "__________________________________________________________________________________________________\n",
      "Conv3d_4c_1b_3x3_bn (BatchNorma (None, 5, 14, 14, 22 672         Conv3d_4c_1b_3x3_conv[0][0]      \n",
      "__________________________________________________________________________________________________\n",
      "Conv3d_4c_2b_3x3_bn (BatchNorma (None, 5, 14, 14, 64 192         Conv3d_4c_2b_3x3_conv[0][0]      \n",
      "__________________________________________________________________________________________________\n",
      "Conv3d_4c_3b_1x1_bn (BatchNorma (None, 5, 14, 14, 64 192         Conv3d_4c_3b_1x1_conv[0][0]      \n",
      "__________________________________________________________________________________________________\n",
      "Conv3d_4c_0a_1x1 (Activation)   (None, 5, 14, 14, 16 0           Conv3d_4c_0a_1x1_bn[0][0]        \n",
      "__________________________________________________________________________________________________\n",
      "Conv3d_4c_1b_3x3 (Activation)   (None, 5, 14, 14, 22 0           Conv3d_4c_1b_3x3_bn[0][0]        \n",
      "__________________________________________________________________________________________________\n",
      "Conv3d_4c_2b_3x3 (Activation)   (None, 5, 14, 14, 64 0           Conv3d_4c_2b_3x3_bn[0][0]        \n",
      "__________________________________________________________________________________________________\n",
      "Conv3d_4c_3b_1x1 (Activation)   (None, 5, 14, 14, 64 0           Conv3d_4c_3b_1x1_bn[0][0]        \n",
      "__________________________________________________________________________________________________\n",
      "Mixed_4c (Concatenate)          (None, 5, 14, 14, 51 0           Conv3d_4c_0a_1x1[0][0]           \n",
      "                                                                 Conv3d_4c_1b_3x3[0][0]           \n",
      "                                                                 Conv3d_4c_2b_3x3[0][0]           \n",
      "                                                                 Conv3d_4c_3b_1x1[0][0]           \n",
      "__________________________________________________________________________________________________\n",
      "Conv3d_4d_1a_1x1_conv (Conv3D)  (None, 5, 14, 14, 12 65536       Mixed_4c[0][0]                   \n",
      "__________________________________________________________________________________________________\n",
      "Conv3d_4d_2a_1x1_conv (Conv3D)  (None, 5, 14, 14, 24 12288       Mixed_4c[0][0]                   \n",
      "__________________________________________________________________________________________________\n",
      "Conv3d_4d_1a_1x1_bn (BatchNorma (None, 5, 14, 14, 12 384         Conv3d_4d_1a_1x1_conv[0][0]      \n",
      "__________________________________________________________________________________________________\n",
      "Conv3d_4d_2a_1x1_bn (BatchNorma (None, 5, 14, 14, 24 72          Conv3d_4d_2a_1x1_conv[0][0]      \n",
      "__________________________________________________________________________________________________\n",
      "Conv3d_4d_1a_1x1 (Activation)   (None, 5, 14, 14, 12 0           Conv3d_4d_1a_1x1_bn[0][0]        \n",
      "__________________________________________________________________________________________________\n",
      "Conv3d_4d_2a_1x1 (Activation)   (None, 5, 14, 14, 24 0           Conv3d_4d_2a_1x1_bn[0][0]        \n",
      "__________________________________________________________________________________________________\n",
      "MaxPool2d_4d_3a_3x3 (MaxPooling (None, 5, 14, 14, 51 0           Mixed_4c[0][0]                   \n",
      "__________________________________________________________________________________________________\n",
      "Conv3d_4d_0a_1x1_conv (Conv3D)  (None, 5, 14, 14, 12 65536       Mixed_4c[0][0]                   \n",
      "__________________________________________________________________________________________________\n",
      "Conv3d_4d_1b_3x3_conv (Conv3D)  (None, 5, 14, 14, 25 884736      Conv3d_4d_1a_1x1[0][0]           \n",
      "__________________________________________________________________________________________________\n",
      "Conv3d_4d_2b_3x3_conv (Conv3D)  (None, 5, 14, 14, 64 41472       Conv3d_4d_2a_1x1[0][0]           \n",
      "__________________________________________________________________________________________________\n",
      "Conv3d_4d_3b_1x1_conv (Conv3D)  (None, 5, 14, 14, 64 32768       MaxPool2d_4d_3a_3x3[0][0]        \n",
      "__________________________________________________________________________________________________\n",
      "Conv3d_4d_0a_1x1_bn (BatchNorma (None, 5, 14, 14, 12 384         Conv3d_4d_0a_1x1_conv[0][0]      \n",
      "__________________________________________________________________________________________________\n",
      "Conv3d_4d_1b_3x3_bn (BatchNorma (None, 5, 14, 14, 25 768         Conv3d_4d_1b_3x3_conv[0][0]      \n",
      "__________________________________________________________________________________________________\n",
      "Conv3d_4d_2b_3x3_bn (BatchNorma (None, 5, 14, 14, 64 192         Conv3d_4d_2b_3x3_conv[0][0]      \n",
      "__________________________________________________________________________________________________\n",
      "Conv3d_4d_3b_1x1_bn (BatchNorma (None, 5, 14, 14, 64 192         Conv3d_4d_3b_1x1_conv[0][0]      \n",
      "__________________________________________________________________________________________________\n",
      "Conv3d_4d_0a_1x1 (Activation)   (None, 5, 14, 14, 12 0           Conv3d_4d_0a_1x1_bn[0][0]        \n",
      "__________________________________________________________________________________________________\n",
      "Conv3d_4d_1b_3x3 (Activation)   (None, 5, 14, 14, 25 0           Conv3d_4d_1b_3x3_bn[0][0]        \n",
      "__________________________________________________________________________________________________\n",
      "Conv3d_4d_2b_3x3 (Activation)   (None, 5, 14, 14, 64 0           Conv3d_4d_2b_3x3_bn[0][0]        \n",
      "__________________________________________________________________________________________________\n",
      "Conv3d_4d_3b_1x1 (Activation)   (None, 5, 14, 14, 64 0           Conv3d_4d_3b_1x1_bn[0][0]        \n",
      "__________________________________________________________________________________________________\n",
      "Mixed_4d (Concatenate)          (None, 5, 14, 14, 51 0           Conv3d_4d_0a_1x1[0][0]           \n",
      "                                                                 Conv3d_4d_1b_3x3[0][0]           \n",
      "                                                                 Conv3d_4d_2b_3x3[0][0]           \n",
      "                                                                 Conv3d_4d_3b_1x1[0][0]           \n",
      "__________________________________________________________________________________________________\n",
      "Conv3d_4e_1a_1x1_conv (Conv3D)  (None, 5, 14, 14, 14 73728       Mixed_4d[0][0]                   \n",
      "__________________________________________________________________________________________________\n",
      "Conv3d_4e_2a_1x1_conv (Conv3D)  (None, 5, 14, 14, 32 16384       Mixed_4d[0][0]                   \n",
      "__________________________________________________________________________________________________\n",
      "Conv3d_4e_1a_1x1_bn (BatchNorma (None, 5, 14, 14, 14 432         Conv3d_4e_1a_1x1_conv[0][0]      \n",
      "__________________________________________________________________________________________________\n",
      "Conv3d_4e_2a_1x1_bn (BatchNorma (None, 5, 14, 14, 32 96          Conv3d_4e_2a_1x1_conv[0][0]      \n",
      "__________________________________________________________________________________________________\n",
      "Conv3d_4e_1a_1x1 (Activation)   (None, 5, 14, 14, 14 0           Conv3d_4e_1a_1x1_bn[0][0]        \n",
      "__________________________________________________________________________________________________\n",
      "Conv3d_4e_2a_1x1 (Activation)   (None, 5, 14, 14, 32 0           Conv3d_4e_2a_1x1_bn[0][0]        \n",
      "__________________________________________________________________________________________________\n",
      "MaxPool2d_4e_3a_3x3 (MaxPooling (None, 5, 14, 14, 51 0           Mixed_4d[0][0]                   \n",
      "__________________________________________________________________________________________________\n",
      "Conv3d_4e_0a_1x1_conv (Conv3D)  (None, 5, 14, 14, 11 57344       Mixed_4d[0][0]                   \n",
      "__________________________________________________________________________________________________\n",
      "Conv3d_4e_1b_3x3_conv (Conv3D)  (None, 5, 14, 14, 28 1119744     Conv3d_4e_1a_1x1[0][0]           \n",
      "__________________________________________________________________________________________________\n",
      "Conv3d_4e_2b_3x3_conv (Conv3D)  (None, 5, 14, 14, 64 55296       Conv3d_4e_2a_1x1[0][0]           \n",
      "__________________________________________________________________________________________________\n",
      "Conv3d_4e_3b_1x1_conv (Conv3D)  (None, 5, 14, 14, 64 32768       MaxPool2d_4e_3a_3x3[0][0]        \n",
      "__________________________________________________________________________________________________\n",
      "Conv3d_4e_0a_1x1_bn (BatchNorma (None, 5, 14, 14, 11 336         Conv3d_4e_0a_1x1_conv[0][0]      \n",
      "__________________________________________________________________________________________________\n",
      "Conv3d_4e_1b_3x3_bn (BatchNorma (None, 5, 14, 14, 28 864         Conv3d_4e_1b_3x3_conv[0][0]      \n",
      "__________________________________________________________________________________________________\n",
      "Conv3d_4e_2b_3x3_bn (BatchNorma (None, 5, 14, 14, 64 192         Conv3d_4e_2b_3x3_conv[0][0]      \n",
      "__________________________________________________________________________________________________\n",
      "Conv3d_4e_3b_1x1_bn (BatchNorma (None, 5, 14, 14, 64 192         Conv3d_4e_3b_1x1_conv[0][0]      \n",
      "__________________________________________________________________________________________________\n",
      "Conv3d_4e_0a_1x1 (Activation)   (None, 5, 14, 14, 11 0           Conv3d_4e_0a_1x1_bn[0][0]        \n",
      "__________________________________________________________________________________________________\n",
      "Conv3d_4e_1b_3x3 (Activation)   (None, 5, 14, 14, 28 0           Conv3d_4e_1b_3x3_bn[0][0]        \n",
      "__________________________________________________________________________________________________\n",
      "Conv3d_4e_2b_3x3 (Activation)   (None, 5, 14, 14, 64 0           Conv3d_4e_2b_3x3_bn[0][0]        \n",
      "__________________________________________________________________________________________________\n",
      "Conv3d_4e_3b_1x1 (Activation)   (None, 5, 14, 14, 64 0           Conv3d_4e_3b_1x1_bn[0][0]        \n",
      "__________________________________________________________________________________________________\n",
      "Mixed_4e (Concatenate)          (None, 5, 14, 14, 52 0           Conv3d_4e_0a_1x1[0][0]           \n",
      "                                                                 Conv3d_4e_1b_3x3[0][0]           \n",
      "                                                                 Conv3d_4e_2b_3x3[0][0]           \n",
      "                                                                 Conv3d_4e_3b_1x1[0][0]           \n",
      "__________________________________________________________________________________________________\n",
      "Conv3d_4f_1a_1x1_conv (Conv3D)  (None, 5, 14, 14, 16 84480       Mixed_4e[0][0]                   \n",
      "__________________________________________________________________________________________________\n",
      "Conv3d_4f_2a_1x1_conv (Conv3D)  (None, 5, 14, 14, 32 16896       Mixed_4e[0][0]                   \n",
      "__________________________________________________________________________________________________\n",
      "Conv3d_4f_1a_1x1_bn (BatchNorma (None, 5, 14, 14, 16 480         Conv3d_4f_1a_1x1_conv[0][0]      \n",
      "__________________________________________________________________________________________________\n",
      "Conv3d_4f_2a_1x1_bn (BatchNorma (None, 5, 14, 14, 32 96          Conv3d_4f_2a_1x1_conv[0][0]      \n",
      "__________________________________________________________________________________________________\n",
      "Conv3d_4f_1a_1x1 (Activation)   (None, 5, 14, 14, 16 0           Conv3d_4f_1a_1x1_bn[0][0]        \n",
      "__________________________________________________________________________________________________\n",
      "Conv3d_4f_2a_1x1 (Activation)   (None, 5, 14, 14, 32 0           Conv3d_4f_2a_1x1_bn[0][0]        \n",
      "__________________________________________________________________________________________________\n",
      "MaxPool2d_4f_3a_3x3 (MaxPooling (None, 5, 14, 14, 52 0           Mixed_4e[0][0]                   \n",
      "__________________________________________________________________________________________________\n",
      "Conv3d_4f_0a_1x1_conv (Conv3D)  (None, 5, 14, 14, 25 135168      Mixed_4e[0][0]                   \n",
      "__________________________________________________________________________________________________\n",
      "Conv3d_4f_1b_3x3_conv (Conv3D)  (None, 5, 14, 14, 32 1382400     Conv3d_4f_1a_1x1[0][0]           \n",
      "__________________________________________________________________________________________________\n",
      "Conv3d_4f_2b_3x3_conv (Conv3D)  (None, 5, 14, 14, 12 110592      Conv3d_4f_2a_1x1[0][0]           \n",
      "__________________________________________________________________________________________________\n",
      "Conv3d_4f_3b_1x1_conv (Conv3D)  (None, 5, 14, 14, 12 67584       MaxPool2d_4f_3a_3x3[0][0]        \n",
      "__________________________________________________________________________________________________\n",
      "Conv3d_4f_0a_1x1_bn (BatchNorma (None, 5, 14, 14, 25 768         Conv3d_4f_0a_1x1_conv[0][0]      \n",
      "__________________________________________________________________________________________________\n",
      "Conv3d_4f_1b_3x3_bn (BatchNorma (None, 5, 14, 14, 32 960         Conv3d_4f_1b_3x3_conv[0][0]      \n",
      "__________________________________________________________________________________________________\n",
      "Conv3d_4f_2b_3x3_bn (BatchNorma (None, 5, 14, 14, 12 384         Conv3d_4f_2b_3x3_conv[0][0]      \n",
      "__________________________________________________________________________________________________\n",
      "Conv3d_4f_3b_1x1_bn (BatchNorma (None, 5, 14, 14, 12 384         Conv3d_4f_3b_1x1_conv[0][0]      \n",
      "__________________________________________________________________________________________________\n",
      "Conv3d_4f_0a_1x1 (Activation)   (None, 5, 14, 14, 25 0           Conv3d_4f_0a_1x1_bn[0][0]        \n",
      "__________________________________________________________________________________________________\n",
      "Conv3d_4f_1b_3x3 (Activation)   (None, 5, 14, 14, 32 0           Conv3d_4f_1b_3x3_bn[0][0]        \n",
      "__________________________________________________________________________________________________\n",
      "Conv3d_4f_2b_3x3 (Activation)   (None, 5, 14, 14, 12 0           Conv3d_4f_2b_3x3_bn[0][0]        \n",
      "__________________________________________________________________________________________________\n",
      "Conv3d_4f_3b_1x1 (Activation)   (None, 5, 14, 14, 12 0           Conv3d_4f_3b_1x1_bn[0][0]        \n",
      "__________________________________________________________________________________________________\n",
      "Mixed_4f (Concatenate)          (None, 5, 14, 14, 83 0           Conv3d_4f_0a_1x1[0][0]           \n",
      "                                                                 Conv3d_4f_1b_3x3[0][0]           \n",
      "                                                                 Conv3d_4f_2b_3x3[0][0]           \n",
      "                                                                 Conv3d_4f_3b_1x1[0][0]           \n",
      "__________________________________________________________________________________________________\n",
      "MaxPool2d_5a_2x2 (MaxPooling3D) (None, 3, 7, 7, 832) 0           Mixed_4f[0][0]                   \n",
      "__________________________________________________________________________________________________\n",
      "Conv3d_5b_1a_1x1_conv (Conv3D)  (None, 3, 7, 7, 160) 133120      MaxPool2d_5a_2x2[0][0]           \n",
      "__________________________________________________________________________________________________\n",
      "Conv3d_5b_2a_1x1_conv (Conv3D)  (None, 3, 7, 7, 32)  26624       MaxPool2d_5a_2x2[0][0]           \n",
      "__________________________________________________________________________________________________\n",
      "Conv3d_5b_1a_1x1_bn (BatchNorma (None, 3, 7, 7, 160) 480         Conv3d_5b_1a_1x1_conv[0][0]      \n",
      "__________________________________________________________________________________________________\n",
      "Conv3d_5b_2a_1x1_bn (BatchNorma (None, 3, 7, 7, 32)  96          Conv3d_5b_2a_1x1_conv[0][0]      \n",
      "__________________________________________________________________________________________________\n",
      "Conv3d_5b_1a_1x1 (Activation)   (None, 3, 7, 7, 160) 0           Conv3d_5b_1a_1x1_bn[0][0]        \n",
      "__________________________________________________________________________________________________\n",
      "Conv3d_5b_2a_1x1 (Activation)   (None, 3, 7, 7, 32)  0           Conv3d_5b_2a_1x1_bn[0][0]        \n",
      "__________________________________________________________________________________________________\n",
      "MaxPool2d_5b_3a_3x3 (MaxPooling (None, 3, 7, 7, 832) 0           MaxPool2d_5a_2x2[0][0]           \n",
      "__________________________________________________________________________________________________\n",
      "Conv3d_5b_0a_1x1_conv (Conv3D)  (None, 3, 7, 7, 256) 212992      MaxPool2d_5a_2x2[0][0]           \n",
      "__________________________________________________________________________________________________\n",
      "Conv3d_5b_1b_3x3_conv (Conv3D)  (None, 3, 7, 7, 320) 1382400     Conv3d_5b_1a_1x1[0][0]           \n",
      "__________________________________________________________________________________________________\n",
      "Conv3d_5b_2b_3x3_conv (Conv3D)  (None, 3, 7, 7, 128) 110592      Conv3d_5b_2a_1x1[0][0]           \n",
      "__________________________________________________________________________________________________\n",
      "Conv3d_5b_3b_1x1_conv (Conv3D)  (None, 3, 7, 7, 128) 106496      MaxPool2d_5b_3a_3x3[0][0]        \n",
      "__________________________________________________________________________________________________\n",
      "Conv3d_5b_0a_1x1_bn (BatchNorma (None, 3, 7, 7, 256) 768         Conv3d_5b_0a_1x1_conv[0][0]      \n",
      "__________________________________________________________________________________________________\n",
      "Conv3d_5b_1b_3x3_bn (BatchNorma (None, 3, 7, 7, 320) 960         Conv3d_5b_1b_3x3_conv[0][0]      \n",
      "__________________________________________________________________________________________________\n",
      "Conv3d_5b_2b_3x3_bn (BatchNorma (None, 3, 7, 7, 128) 384         Conv3d_5b_2b_3x3_conv[0][0]      \n",
      "__________________________________________________________________________________________________\n",
      "Conv3d_5b_3b_1x1_bn (BatchNorma (None, 3, 7, 7, 128) 384         Conv3d_5b_3b_1x1_conv[0][0]      \n",
      "__________________________________________________________________________________________________\n",
      "Conv3d_5b_0a_1x1 (Activation)   (None, 3, 7, 7, 256) 0           Conv3d_5b_0a_1x1_bn[0][0]        \n",
      "__________________________________________________________________________________________________\n",
      "Conv3d_5b_1b_3x3 (Activation)   (None, 3, 7, 7, 320) 0           Conv3d_5b_1b_3x3_bn[0][0]        \n",
      "__________________________________________________________________________________________________\n",
      "Conv3d_5b_2b_3x3 (Activation)   (None, 3, 7, 7, 128) 0           Conv3d_5b_2b_3x3_bn[0][0]        \n",
      "__________________________________________________________________________________________________\n",
      "Conv3d_5b_3b_1x1 (Activation)   (None, 3, 7, 7, 128) 0           Conv3d_5b_3b_1x1_bn[0][0]        \n",
      "__________________________________________________________________________________________________\n",
      "Mixed_5b (Concatenate)          (None, 3, 7, 7, 832) 0           Conv3d_5b_0a_1x1[0][0]           \n",
      "                                                                 Conv3d_5b_1b_3x3[0][0]           \n",
      "                                                                 Conv3d_5b_2b_3x3[0][0]           \n",
      "                                                                 Conv3d_5b_3b_1x1[0][0]           \n",
      "__________________________________________________________________________________________________\n",
      "Conv3d_5c_1a_1x1_conv (Conv3D)  (None, 3, 7, 7, 192) 159744      Mixed_5b[0][0]                   \n",
      "__________________________________________________________________________________________________\n",
      "Conv3d_5c_2a_1x1_conv (Conv3D)  (None, 3, 7, 7, 48)  39936       Mixed_5b[0][0]                   \n",
      "__________________________________________________________________________________________________\n",
      "Conv3d_5c_1a_1x1_bn (BatchNorma (None, 3, 7, 7, 192) 576         Conv3d_5c_1a_1x1_conv[0][0]      \n",
      "__________________________________________________________________________________________________\n",
      "Conv3d_5c_2a_1x1_bn (BatchNorma (None, 3, 7, 7, 48)  144         Conv3d_5c_2a_1x1_conv[0][0]      \n",
      "__________________________________________________________________________________________________\n",
      "Conv3d_5c_1a_1x1 (Activation)   (None, 3, 7, 7, 192) 0           Conv3d_5c_1a_1x1_bn[0][0]        \n",
      "__________________________________________________________________________________________________\n",
      "Conv3d_5c_2a_1x1 (Activation)   (None, 3, 7, 7, 48)  0           Conv3d_5c_2a_1x1_bn[0][0]        \n",
      "__________________________________________________________________________________________________\n",
      "MaxPool2d_5c_3a_3x3 (MaxPooling (None, 3, 7, 7, 832) 0           Mixed_5b[0][0]                   \n",
      "__________________________________________________________________________________________________\n",
      "Conv3d_5c_0a_1x1_conv (Conv3D)  (None, 3, 7, 7, 384) 319488      Mixed_5b[0][0]                   \n",
      "__________________________________________________________________________________________________\n",
      "Conv3d_5c_1b_3x3_conv (Conv3D)  (None, 3, 7, 7, 384) 1990656     Conv3d_5c_1a_1x1[0][0]           \n",
      "__________________________________________________________________________________________________\n",
      "Conv3d_5c_2b_3x3_conv (Conv3D)  (None, 3, 7, 7, 128) 165888      Conv3d_5c_2a_1x1[0][0]           \n",
      "__________________________________________________________________________________________________\n",
      "Conv3d_5c_3b_1x1_conv (Conv3D)  (None, 3, 7, 7, 128) 106496      MaxPool2d_5c_3a_3x3[0][0]        \n",
      "__________________________________________________________________________________________________\n",
      "Conv3d_5c_0a_1x1_bn (BatchNorma (None, 3, 7, 7, 384) 1152        Conv3d_5c_0a_1x1_conv[0][0]      \n",
      "__________________________________________________________________________________________________\n",
      "Conv3d_5c_1b_3x3_bn (BatchNorma (None, 3, 7, 7, 384) 1152        Conv3d_5c_1b_3x3_conv[0][0]      \n",
      "__________________________________________________________________________________________________\n",
      "Conv3d_5c_2b_3x3_bn (BatchNorma (None, 3, 7, 7, 128) 384         Conv3d_5c_2b_3x3_conv[0][0]      \n",
      "__________________________________________________________________________________________________\n",
      "Conv3d_5c_3b_1x1_bn (BatchNorma (None, 3, 7, 7, 128) 384         Conv3d_5c_3b_1x1_conv[0][0]      \n",
      "__________________________________________________________________________________________________\n",
      "Conv3d_5c_0a_1x1 (Activation)   (None, 3, 7, 7, 384) 0           Conv3d_5c_0a_1x1_bn[0][0]        \n",
      "__________________________________________________________________________________________________\n",
      "Conv3d_5c_1b_3x3 (Activation)   (None, 3, 7, 7, 384) 0           Conv3d_5c_1b_3x3_bn[0][0]        \n",
      "__________________________________________________________________________________________________\n",
      "Conv3d_5c_2b_3x3 (Activation)   (None, 3, 7, 7, 128) 0           Conv3d_5c_2b_3x3_bn[0][0]        \n",
      "__________________________________________________________________________________________________\n",
      "Conv3d_5c_3b_1x1 (Activation)   (None, 3, 7, 7, 128) 0           Conv3d_5c_3b_1x1_bn[0][0]        \n",
      "__________________________________________________________________________________________________\n",
      "Mixed_5c (Concatenate)          (None, 3, 7, 7, 1024 0           Conv3d_5c_0a_1x1[0][0]           \n",
      "                                                                 Conv3d_5c_1b_3x3[0][0]           \n",
      "                                                                 Conv3d_5c_2b_3x3[0][0]           \n",
      "                                                                 Conv3d_5c_3b_1x1[0][0]           \n",
      "__________________________________________________________________________________________________\n",
      "global_avg_pool (AveragePooling (None, 2, 1, 1, 1024 0           Mixed_5c[0][0]                   \n",
      "__________________________________________________________________________________________________\n",
      "dropout_1 (Dropout)             (None, 2, 1, 1, 1024 0           global_avg_pool[0][0]            \n",
      "__________________________________________________________________________________________________\n",
      "Conv3d_6a_1x1_conv (Conv3D)     (None, 2, 1, 1, 2)   2050        dropout_1[0][0]                  \n",
      "__________________________________________________________________________________________________\n",
      "reshape_1 (Reshape)             (None, 2, 2)         0           Conv3d_6a_1x1_conv[0][0]         \n",
      "__________________________________________________________________________________________________\n",
      "lambda_1 (Lambda)               (None, 2)            0           reshape_1[0][0]                  \n",
      "__________________________________________________________________________________________________\n",
      "prediction (Activation)         (None, 2)            0           lambda_1[0][0]                   \n",
      "==================================================================================================\n",
      "Total params: 12,296,594\n",
      "Trainable params: 12,282,034\n",
      "Non-trainable params: 14,560\n",
      "__________________________________________________________________________________________________\n"
     ]
    }
   ],
   "source": [
    "model.summary()"
   ]
  },
  {
   "cell_type": "markdown",
   "metadata": {},
   "source": [
    "### Load Data  + Train"
   ]
  },
  {
   "cell_type": "code",
   "execution_count": 17,
   "metadata": {},
   "outputs": [],
   "source": [
    "# data_path = '/home/khan74/project/i3d_keras/data/fall_no_fall/HS_data/processed_dataset_win20_thre15/'\n",
    "# data_path = '/home/khan74/project/i3d_keras/data/fall_no_fall/HS_data/processed_dataset_win20_thre18_2/'\n",
    "\n",
    "data_path = '/home/khan74/project/i3d_keras/data/fall_no_fall/HS_data/processed_dataset_win20_thre18_3/'"
   ]
  },
  {
   "cell_type": "code",
   "execution_count": 18,
   "metadata": {},
   "outputs": [],
   "source": [
    "import glob\n",
    "\n",
    "train_falls = []\n",
    "for file in glob.glob(data_path+\"train/fall/*.npy\"):\n",
    "    train_falls.append(file)\n",
    "    \n",
    "\n",
    "train_no_falls = []\n",
    "for file in glob.glob(data_path+\"train/nofall/*.npy\"):\n",
    "    train_no_falls.append(file)\n",
    "    \n",
    "test_falls = []\n",
    "for file in glob.glob(data_path+\"test/fall/*.npy\"):\n",
    "    test_falls.append(file)\n",
    "    \n",
    "\n",
    "test_no_falls = []\n",
    "for file in glob.glob(data_path+\"test/nofall/*.npy\"):\n",
    "    test_no_falls.append(file)"
   ]
  },
  {
   "cell_type": "code",
   "execution_count": 19,
   "metadata": {},
   "outputs": [
    {
     "name": "stdout",
     "output_type": "stream",
     "text": [
      "47\n",
      "159\n",
      "11\n",
      "56\n"
     ]
    }
   ],
   "source": [
    "print(len(train_falls)); print(len(train_no_falls)); print(len(test_falls)); print(len(test_no_falls))"
   ]
  },
  {
   "cell_type": "code",
   "execution_count": 20,
   "metadata": {},
   "outputs": [],
   "source": [
    "x_train, y_train = [], []\n",
    "\n",
    "for f in train_falls:\n",
    "    rgb_sample = np.load(f)\n",
    "    x_train.append(rgb_sample)\n",
    "    y_train.append(1)\n",
    "    \n",
    "\n",
    "for f in train_no_falls:\n",
    "    rgb_sample = np.load(f)\n",
    "    x_train.append(rgb_sample)\n",
    "    y_train.append(0)"
   ]
  },
  {
   "cell_type": "code",
   "execution_count": 21,
   "metadata": {},
   "outputs": [],
   "source": [
    "x_test, y_test = [], []\n",
    "\n",
    "for f in test_falls:\n",
    "    rgb_sample = np.load(f)\n",
    "    x_test.append(rgb_sample)\n",
    "    y_test.append(1)\n",
    "    \n",
    "\n",
    "for f in test_no_falls:\n",
    "    rgb_sample = np.load(f)\n",
    "    x_test.append(rgb_sample)\n",
    "    y_test.append(0)"
   ]
  },
  {
   "cell_type": "code",
   "execution_count": 22,
   "metadata": {},
   "outputs": [],
   "source": [
    "x_train = np.array(x_train); x_train = x_train/255\n",
    "y_train = np.array(y_train); y_train = keras.utils.to_categorical(y_train, 2)\n",
    "\n",
    "x_test = np.array(x_test); x_test = x_test/255\n",
    "y_test = np.array(y_test); y_test = keras.utils.to_categorical(y_test, 2)"
   ]
  },
  {
   "cell_type": "code",
   "execution_count": 23,
   "metadata": {
    "scrolled": false
   },
   "outputs": [
    {
     "name": "stdout",
     "output_type": "stream",
     "text": [
      "WARNING:tensorflow:From /home/khan74/.conda/envs/hackathon_2/lib/python3.7/site-packages/tensorflow/python/ops/math_ops.py:3066: to_int32 (from tensorflow.python.ops.math_ops) is deprecated and will be removed in a future version.\n",
      "Instructions for updating:\n",
      "Use tf.cast instead.\n",
      "Train on 206 samples, validate on 67 samples\n",
      "Epoch 1/10\n",
      "206/206 [==============================] - 32s 153ms/step - loss: 0.4731 - acc: 0.8058 - val_loss: 0.3418 - val_acc: 0.8955\n",
      "Epoch 2/10\n",
      "206/206 [==============================] - 9s 45ms/step - loss: 0.2277 - acc: 0.9660 - val_loss: 0.2276 - val_acc: 0.9254\n",
      "Epoch 3/10\n",
      "206/206 [==============================] - 10s 46ms/step - loss: 0.1615 - acc: 0.9660 - val_loss: 0.1848 - val_acc: 0.9254\n",
      "Epoch 4/10\n",
      "206/206 [==============================] - 9s 45ms/step - loss: 0.0884 - acc: 1.0000 - val_loss: 0.1725 - val_acc: 0.9254\n",
      "Epoch 5/10\n",
      "206/206 [==============================] - 9s 45ms/step - loss: 0.0597 - acc: 1.0000 - val_loss: 0.1583 - val_acc: 0.9254\n",
      "Epoch 6/10\n",
      "206/206 [==============================] - 9s 43ms/step - loss: 0.0459 - acc: 1.0000 - val_loss: 0.1499 - val_acc: 0.9403\n",
      "Epoch 7/10\n",
      "206/206 [==============================] - 9s 45ms/step - loss: 0.0283 - acc: 1.0000 - val_loss: 0.1450 - val_acc: 0.9403\n",
      "Epoch 8/10\n",
      "206/206 [==============================] - 9s 42ms/step - loss: 0.0217 - acc: 1.0000 - val_loss: 0.1398 - val_acc: 0.9403\n",
      "Epoch 9/10\n",
      "206/206 [==============================] - 9s 43ms/step - loss: 0.0175 - acc: 1.0000 - val_loss: 0.1374 - val_acc: 0.9403\n",
      "Epoch 10/10\n",
      "206/206 [==============================] - 9s 41ms/step - loss: 0.0170 - acc: 1.0000 - val_loss: 0.1436 - val_acc: 0.9403\n"
     ]
    }
   ],
   "source": [
    "hist = model.fit(x=x_train, y=y_train, batch_size=16, epochs=10, shuffle=True, validation_data=(x_test, y_test))#validation_split=0.2)"
   ]
  },
  {
   "cell_type": "code",
   "execution_count": 24,
   "metadata": {},
   "outputs": [],
   "source": [
    "model.save_weights('train_2.h5')"
   ]
  },
  {
   "cell_type": "code",
   "execution_count": 25,
   "metadata": {},
   "outputs": [
    {
     "data": {
      "image/png": "[encoded data removed]",
      "text/plain": [
       "<Figure size 792x288 with 2 Axes>"
      ]
     },
     "metadata": {
      "needs_background": "light"
     },
     "output_type": "display_data"
    }
   ],
   "source": [
    "#Training Accuracy/Loss\n",
    "\n",
    "plt.figure( figsize=(11,4) )\n",
    "\n",
    "# Plot training & validation accuracy values\n",
    "plt.subplot(1,2,1)\n",
    "plt.plot(hist.history['acc'])\n",
    "plt.plot(hist.history['val_acc'])\n",
    "plt.title('Model accuracy')\n",
    "plt.ylabel('Accuracy')\n",
    "plt.xlabel('Epoch')\n",
    "plt.legend(['Train', 'Test'], loc='upper left')\n",
    "#plt.show()\n",
    "\n",
    "# Plot training & validation loss values\n",
    "plt.subplot(1,2,2)\n",
    "plt.plot(hist.history['loss'])\n",
    "plt.plot(hist.history['val_loss'])\n",
    "plt.title('Model loss')\n",
    "plt.ylabel('Loss')\n",
    "plt.xlabel('Epoch')\n",
    "plt.legend(['Train', 'Test'], loc='upper left')\n",
    "plt.show()"
   ]
  },
  {
   "cell_type": "markdown",
   "metadata": {},
   "source": [
    "### Predict"
   ]
  },
  {
   "cell_type": "markdown",
   "metadata": {
    "heading_collapsed": true
   },
   "source": [
    "###### cf matrix"
   ]
  },
  {
   "cell_type": "code",
   "execution_count": 26,
   "metadata": {
    "hidden": true
   },
   "outputs": [],
   "source": [
    "import itertools\n",
    "from sklearn import metrics\n",
    "from sklearn.metrics import confusion_matrix\n",
    "from sklearn.metrics import precision_score, recall_score\n",
    "from sklearn.metrics import average_precision_score\n",
    "from sklearn.metrics import precision_recall_curve\n",
    "from inspect import signature"
   ]
  },
  {
   "cell_type": "code",
   "execution_count": 27,
   "metadata": {
    "hidden": true
   },
   "outputs": [],
   "source": [
    "def plot_prec_recall_curve(Predictions, Actuals):\n",
    "    precision, recall, _ = precision_recall_curve(Actuals, Predictions)\n",
    "    average_precision = average_precision_score(Actuals, Predictions)\n",
    "\n",
    "\n",
    "    # In matplotlib < 1.5, plt.fill_between does not have a 'step' argument\n",
    "    step_kwargs = ({'step': 'post'}\n",
    "                   if 'step' in signature(plt.fill_between).parameters\n",
    "                   else {})\n",
    "    plt.step(recall, precision, color='b', alpha=0.2,\n",
    "             where='post')\n",
    "    plt.fill_between(recall, precision, alpha=0.2, color='b', **step_kwargs)\n",
    "\n",
    "    plt.xlabel('Recall')\n",
    "    plt.ylabel('Precision')\n",
    "    plt.ylim([0.0, 1.05])\n",
    "    plt.xlim([0.0, 1.0])\n",
    "    plt.title('2-class Precision-Recall curve: AP={0:0.2f}'.format(\n",
    "              average_precision))"
   ]
  },
  {
   "cell_type": "code",
   "execution_count": 34,
   "metadata": {
    "hidden": true
   },
   "outputs": [],
   "source": [
    "def plot_confusion_matrix(cm, classes,\n",
    "                          normalize=False,\n",
    "                          title='Confusion matrix',\n",
    "                          cmap=plt.cm.Blues,\n",
    "                          figure_size = (11, 6),\n",
    "                          save=0,\n",
    "                          save_path='/home/khan74'):\n",
    "    \"\"\"\n",
    "    This function prints and plots the confusion matrix.\n",
    "    Normalization can be applied by setting `normalize=True`.\n",
    "    \"\"\"\n",
    "    #if normalize:\n",
    "        #cm = cm.astype('float') / cm.sum(axis=1)[:, np.newaxis]\n",
    "        #print(\"Normalized confusion matrix\")\n",
    "    #else:\n",
    "        #print('Confusion matrix, without normalization')\n",
    "\n",
    "    #print(cm)\n",
    "\n",
    "    plt.figure(figsize=figure_size)\n",
    "    plt.imshow(cm, interpolation='nearest', cmap=cmap)\n",
    "    plt.title(title)\n",
    "    plt.colorbar()\n",
    "    tick_marks = np.arange(len(classes))\n",
    "    plt.xticks(tick_marks, classes, rotation=45)\n",
    "    #plt.yticks(tick_marks, classes, rotation=45)\n",
    "    plt.yticks([-.5, 0.00, 1.00, 1.5], ['', 'No Fall', 'Fall', ''])\n",
    "\n",
    "    fmt = '.2f' if normalize else 'd'\n",
    "    thresh = cm.max() / 2.\n",
    "    \n",
    "    for i, j in itertools.product(range(cm.shape[0]), range(cm.shape[1])):\n",
    "        plt.text(j, i, format(cm[i, j], fmt),\n",
    "                 horizontalalignment=\"center\",\n",
    "                 color=\"white\" if cm[i, j] > thresh else \"black\")\n",
    "    \n",
    "\n",
    "    plt.ylabel('True label')\n",
    "    plt.xlabel('Predicted label')\n",
    "    plt.tight_layout()\n",
    "    \n",
    "    if save:\n",
    "        plt.savefig(save_path)\n",
    "        #plt.savefig('confusion_matrix.png')"
   ]
  },
  {
   "cell_type": "code",
   "execution_count": 29,
   "metadata": {
    "hidden": true
   },
   "outputs": [],
   "source": [
    "Actuals, Predictions = [], []"
   ]
  },
  {
   "cell_type": "code",
   "execution_count": 30,
   "metadata": {
    "hidden": true,
    "scrolled": false
   },
   "outputs": [
    {
     "name": "stdout",
     "output_type": "stream",
     "text": [
      "No Fall\n",
      "No Fall\n",
      "No Fall\n",
      "No Fall\n",
      "No Fall\n",
      "No Fall\n",
      "No Fall\n",
      "No Fall\n",
      "No Fall\n",
      "No Fall\n",
      "No Fall\n",
      "No Fall\n",
      "No Fall\n",
      "No Fall\n",
      "Fall\n",
      "No Fall\n",
      "No Fall\n",
      "No Fall\n",
      "No Fall\n",
      "No Fall\n",
      "No Fall\n",
      "No Fall\n",
      "No Fall\n",
      "No Fall\n",
      "No Fall\n",
      "No Fall\n",
      "No Fall\n",
      "No Fall\n",
      "No Fall\n",
      "No Fall\n",
      "No Fall\n",
      "No Fall\n",
      "No Fall\n",
      "No Fall\n",
      "No Fall\n",
      "No Fall\n",
      "No Fall\n",
      "No Fall\n",
      "No Fall\n",
      "No Fall\n",
      "No Fall\n",
      "Fall\n",
      "No Fall\n",
      "No Fall\n",
      "No Fall\n",
      "No Fall\n",
      "No Fall\n",
      "No Fall\n",
      "No Fall\n",
      "No Fall\n",
      "No Fall\n",
      "No Fall\n",
      "No Fall\n",
      "No Fall\n",
      "No Fall\n",
      "No Fall\n"
     ]
    }
   ],
   "source": [
    "for f in test_no_falls:\n",
    "    test_sample = np.load(f)\n",
    "    test_sample = np.expand_dims(test_sample, axis=0)\n",
    "    test_sample= test_sample/255\n",
    "    p = model.predict(test_sample)\n",
    "    v = np.argmax(p)\n",
    "    #print(p)\n",
    "    if v == 1:\n",
    "        print('Fall')\n",
    "        Actuals.append(0)\n",
    "        Predictions.append(v)\n",
    "    elif v == 0:\n",
    "        print('No Fall')\n",
    "        Actuals.append(0)\n",
    "        Predictions.append(v)"
   ]
  },
  {
   "cell_type": "code",
   "execution_count": 31,
   "metadata": {
    "hidden": true,
    "scrolled": false
   },
   "outputs": [
    {
     "name": "stdout",
     "output_type": "stream",
     "text": [
      "No Fall\n",
      "Fall\n",
      "Fall\n",
      "Fall\n",
      "Fall\n",
      "Fall\n",
      "No Fall\n",
      "Fall\n",
      "Fall\n",
      "Fall\n",
      "Fall\n"
     ]
    }
   ],
   "source": [
    "for f in test_falls:\n",
    "    test_sample = np.load(f)\n",
    "    test_sample = np.expand_dims(test_sample, axis=0)\n",
    "    test_sample= test_sample/255\n",
    "    p = model.predict(test_sample)\n",
    "    v = np.argmax(p)\n",
    "    #print(p)\n",
    "    if v == 1:\n",
    "        print('Fall')\n",
    "        Actuals.append(1)\n",
    "        Predictions.append(v)\n",
    "    elif v == 0:\n",
    "        print('No Fall')\n",
    "        Actuals.append(1)\n",
    "        Predictions.append(v)"
   ]
  },
  {
   "cell_type": "code",
   "execution_count": 32,
   "metadata": {
    "hidden": true
   },
   "outputs": [],
   "source": [
    "Predictions = np.array(Predictions); Actuals = np.array(Actuals)"
   ]
  },
  {
   "cell_type": "markdown",
   "metadata": {},
   "source": [
    "###### Results "
   ]
  },
  {
   "cell_type": "code",
   "execution_count": 35,
   "metadata": {},
   "outputs": [
    {
     "data": {
      "image/png": "[encoded data removed]",
      "text/plain": [
       "<Figure size 576x360 with 2 Axes>"
      ]
     },
     "metadata": {
      "needs_background": "light"
     },
     "output_type": "display_data"
    }
   ],
   "source": [
    "cm = confusion_matrix(Actuals, Predictions)\n",
    "plot_confusion_matrix(cm, classes=['No Fall', 'Fall'], title=\"Confusion Matrix\", figure_size=(8,5), save=0)"
   ]
  },
  {
   "cell_type": "code",
   "execution_count": 36,
   "metadata": {},
   "outputs": [
    {
     "name": "stdout",
     "output_type": "stream",
     "text": [
      "Test Accuracy: 0.94\n",
      "Test Precision: 0.82\n",
      "Test Recall: 0.82\n"
     ]
    }
   ],
   "source": [
    "print('Test Accuracy: {:.2f}'.format(np.sum(Predictions==Actuals)/len(Actuals)))\n",
    "print('Test Precision: {:.2f}'.format(precision_score(Actuals, Predictions)))\n",
    "print('Test Recall: {:.2f}'.format(recall_score(Actuals, Predictions)))"
   ]
  },
  {
   "cell_type": "code",
   "execution_count": 37,
   "metadata": {},
   "outputs": [
    {
     "data": {
      "image/png": "[encoded data removed]",
      "text/plain": [
       "<Figure size 432x288 with 1 Axes>"
      ]
     },
     "metadata": {
      "needs_background": "light"
     },
     "output_type": "display_data"
    }
   ],
   "source": [
    "plot_prec_recall_curve(Predictions, Actuals)"
   ]
  }
 ],
 "metadata": {
  "kernelspec": {
   "display_name": "Python 3",
   "language": "python",
   "name": "python3"
  },
  "language_info": {
   "codemirror_mode": {
    "name": "ipython",
    "version": 3
   },
   "file_extension": ".py",
   "mimetype": "text/x-python",
   "name": "python",
   "nbconvert_exporter": "python",
   "pygments_lexer": "ipython3",
   "version": "3.7.5"
  }
 },
 "nbformat": 4,
 "nbformat_minor": 2
}
